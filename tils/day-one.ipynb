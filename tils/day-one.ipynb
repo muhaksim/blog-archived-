{
 "cells": [
  {
   "cell_type": "markdown",
   "metadata": {},
   "source": [
    "---\n",
    "title: Day one\n",
    "date: 2022-11-05\n",
    "categories: [course, deep learning]\n",
    "aliases: [/tils/day-one]\n",
    "---"
   ]
  },
  {
   "cell_type": "code",
   "execution_count": null,
   "metadata": {},
   "outputs": [],
   "source": []
  },
  {
   "cell_type": "markdown",
   "metadata": {},
   "source": [
    "Today I am starting a new deep learning course."
   ]
  }
 ],
 "metadata": {
  "kernelspec": {
   "display_name": "Python 3.10.6 64-bit",
   "language": "python",
   "name": "python3"
  },
  "language_info": {
   "name": "python",
   "version": "3.10.6"
  },
  "orig_nbformat": 4,
  "vscode": {
   "interpreter": {
    "hash": "7cdb275a0f2e4d135ddb9f1c55ee4296db8d69a6eae998c161527c7e1bcf489e"
   }
  }
 },
 "nbformat": 4,
 "nbformat_minor": 2
}
